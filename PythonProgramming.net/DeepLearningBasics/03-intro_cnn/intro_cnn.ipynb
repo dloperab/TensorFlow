{
 "cells": [
  {
   "cell_type": "code",
   "execution_count": 11,
   "metadata": {},
   "outputs": [],
   "source": [
    "# import the necessary packages\n",
    "import tensorflow as tf\n",
    "from tensorflow.keras.models import Sequential\n",
    "from tensorflow.keras.layers import Dense, Activation, Flatten, Conv2D, MaxPooling2D\n",
    "import pickle"
   ]
  },
  {
   "cell_type": "code",
   "execution_count": 12,
   "metadata": {},
   "outputs": [],
   "source": [
    "# load the features and labels with pickle\n",
    "pickle_in = open(\"trainX.pickle\", \"rb\")\n",
    "trainX = pickle.load(pickle_in)\n",
    "\n",
    "pickle_in = open(\"trainY.pickle\", \"rb\")\n",
    "trainY = pickle.load(pickle_in)"
   ]
  },
  {
   "cell_type": "code",
   "execution_count": 3,
   "metadata": {},
   "outputs": [],
   "source": [
    "# scale the raw pixel intensities to the range [0, 1]\n",
    "trainX = trainX / 255.0"
   ]
  },
  {
   "cell_type": "code",
   "execution_count": 9,
   "metadata": {},
   "outputs": [],
   "source": [
    "# define the architecture of the network\n",
    "model = Sequential()\n",
    "model.add(Conv2D(256, (3, 3), input_shape=trainX.shape[1:]))\n",
    "model.add(Activation(\"relu\"))\n",
    "model.add(MaxPooling2D(pool_size=(2, 2)))\n",
    "model.add(Conv2D(256, (3, 3)))\n",
    "model.add(Activation(\"relu\"))\n",
    "model.add(MaxPooling2D(pool_size=(2, 2)))\n",
    "model.add(Flatten())\n",
    "model.add(Dense(64))\n",
    "model.add(Activation(\"relu\"))\n",
    "model.add(Dense(1))\n",
    "model.add(Activation(\"sigmoid\"))"
   ]
  },
  {
   "cell_type": "code",
   "execution_count": 10,
   "metadata": {},
   "outputs": [
    {
     "name": "stdout",
     "output_type": "stream",
     "text": [
      "Train on 17462 samples, validate on 7484 samples\n",
      "Epoch 1/5\n",
      "17462/17462 [==============================] - 1136s 65ms/step - loss: 0.6667 - acc: 0.5956 - val_loss: 0.6341 - val_acc: 0.6497\n",
      "Epoch 2/5\n",
      "17462/17462 [==============================] - 996s 57ms/step - loss: 0.6154 - acc: 0.6684 - val_loss: 0.6353 - val_acc: 0.6472\n",
      "Epoch 3/5\n",
      "17462/17462 [==============================] - 830s 48ms/step - loss: 0.5536 - acc: 0.7195 - val_loss: 0.5659 - val_acc: 0.7158\n",
      "Epoch 4/5\n",
      "17462/17462 [==============================] - 817s 47ms/step - loss: 0.5127 - acc: 0.7496 - val_loss: 0.5407 - val_acc: 0.7298\n",
      "Epoch 5/5\n",
      "17462/17462 [==============================] - 798s 46ms/step - loss: 0.4855 - acc: 0.7686 - val_loss: 0.4927 - val_acc: 0.7638\n"
     ]
    },
    {
     "data": {
      "text/plain": [
       "<tensorflow.python.keras.callbacks.History at 0x1fd4fb31c88>"
      ]
     },
     "execution_count": 10,
     "metadata": {},
     "output_type": "execute_result"
    }
   ],
   "source": [
    "# train the model\n",
    "model.compile(loss=\"binary_crossentropy\",\n",
    "             optimizer=\"adam\",\n",
    "             metrics=[\"accuracy\"])\n",
    "model.fit(trainX, trainY, batch_size=32, epochs=5, validation_split=0.3)"
   ]
  }
 ],
 "metadata": {
  "kernelspec": {
   "display_name": "Python 3",
   "language": "python",
   "name": "python3"
  },
  "language_info": {
   "codemirror_mode": {
    "name": "ipython",
    "version": 3
   },
   "file_extension": ".py",
   "mimetype": "text/x-python",
   "name": "python",
   "nbconvert_exporter": "python",
   "pygments_lexer": "ipython3",
   "version": "3.6.5"
  }
 },
 "nbformat": 4,
 "nbformat_minor": 2
}
